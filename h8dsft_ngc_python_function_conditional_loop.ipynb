{
 "cells": [
  {
   "cell_type": "markdown",
   "metadata": {},
   "source": [
    "# Task 1"
   ]
  },
  {
   "cell_type": "markdown",
   "metadata": {},
   "source": [
    "Create a function that count the number of word in a sentence.Instruction:  \n",
    "1.Create function called `number_of_word`.  \n",
    "2.This function takes 1 input, `sentence`.  \n",
    "3.Inside this function, you can utilize `.split()` method to split the sentence into list of word(s).  \n",
    "4.Also, `len()` function to count the element inside a list.  \n",
    "5.Return the number of word from the sentence."
   ]
  },
  {
   "cell_type": "code",
   "execution_count": 9,
   "metadata": {},
   "outputs": [],
   "source": [
    "def number_of_word(sentence):\n",
    "    word = sentence.split()\n",
    "    return len(word)"
   ]
  },
  {
   "cell_type": "code",
   "execution_count": 10,
   "metadata": {},
   "outputs": [
    {
     "name": "stdout",
     "output_type": "stream",
     "text": [
      "2\n",
      "5\n"
     ]
    }
   ],
   "source": [
    "print(number_of_word(sentence=\"Hello world\"))\n",
    "print(number_of_word(sentence=\"i see trees of green\"))"
   ]
  },
  {
   "cell_type": "markdown",
   "metadata": {},
   "source": [
    "# Task 2\n",
    "Find MultipleCreate a function that will get list of number(s) from a certain range that multiples of given number.Instruction:  1.Create function called `find_multiples`.  \n",
    "2.This function takes 3 input: `start_range`, `end_range`, and `multiple`.  \n",
    "3.From every number within the given range, check if that number is the mutliples of `multiple`.  \n",
    "4.Return list of the possible multiple number(s).\n",
    "  \n",
    "Example:  \n",
    "-Input: find_multiple(start_range= 1, end_range= 20, multiple= 5)  \n",
    "  -Output: [5, 10, 15, 20]    \n",
    "  \n",
    "-Input: find_multiple(start_range= 1, end_range= 50, multiple= 10)  \n",
    "  -Output: [10, 20, 30, 40, 50]\n"
   ]
  },
  {
   "cell_type": "code",
   "execution_count": 29,
   "metadata": {},
   "outputs": [],
   "source": [
    "def find_multiple(start_range, end_range, multiple):\n",
    "    list = []\n",
    "    for i in range(start_range, end_range +1): \n",
    "        if i % multiple == 0:\n",
    "            list.append(i)\n",
    "    return list\n"
   ]
  },
  {
   "cell_type": "code",
   "execution_count": 30,
   "metadata": {},
   "outputs": [
    {
     "name": "stdout",
     "output_type": "stream",
     "text": [
      "[5, 10, 15, 20]\n"
     ]
    }
   ],
   "source": [
    "print(find_multiple(1,20,5))"
   ]
  },
  {
   "cell_type": "code",
   "execution_count": 31,
   "metadata": {},
   "outputs": [
    {
     "name": "stdout",
     "output_type": "stream",
     "text": [
      "[10, 20, 30, 40, 50]\n"
     ]
    }
   ],
   "source": [
    "print(find_multiple(1,50,10))"
   ]
  },
  {
   "cell_type": "markdown",
   "metadata": {},
   "source": [
    "# Task 3"
   ]
  },
  {
   "cell_type": "markdown",
   "metadata": {},
   "source": [
    "Create a function that will convert student’s grade to GPA.  \n",
    "Instruction:  \n",
    "1.Create function called `Grade_Converter`.  \n",
    "2.This function takes input: `convert_to` and n-paired of student(s) name with its respective score.  \n",
    "3.Input argument for `convert_to` is either `letter_grade` or `gpa`.  \n",
    "4.You can utilize **kwargs input argument to generate n-length paired of student(s) name with its respective score (Dictionary).  \n",
    "5.This function will return dictionary of student’s name along with converted Letter Grade or GPA, depending on user input in `convert_to` parameter."
   ]
  },
  {
   "cell_type": "code",
   "execution_count": null,
   "metadata": {},
   "outputs": [],
   "source": [
    "def grade_converter(**gpa):\n",
    "    "
   ]
  }
 ],
 "metadata": {
  "kernelspec": {
   "display_name": "base",
   "language": "python",
   "name": "python3"
  },
  "language_info": {
   "codemirror_mode": {
    "name": "ipython",
    "version": 3
   },
   "file_extension": ".py",
   "mimetype": "text/x-python",
   "name": "python",
   "nbconvert_exporter": "python",
   "pygments_lexer": "ipython3",
   "version": "3.12.4"
  }
 },
 "nbformat": 4,
 "nbformat_minor": 2
}
